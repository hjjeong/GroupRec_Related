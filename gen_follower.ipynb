{
 "cells": [
  {
   "cell_type": "code",
   "execution_count": 1,
   "id": "double-partner",
   "metadata": {},
   "outputs": [],
   "source": [
    "user_dict = {}\n",
    "root_path = \"data/meetup_nyc/\"\n",
    "#\"data/gwl/gwl.train.gu 2\n",
    "#meetup_ca 4\n",
    "with open(root_path + \"meetup.nyc.train.gu\", \"r\") as f:\n",
    "    lines = f.readlines()\n",
    "    for line in lines:\n",
    "        line = line.strip()\n",
    "        a = line.split('\\t')\n",
    "        g_id = int(a[0])\n",
    "\n",
    "        for m in a[1].split(','):\n",
    "            if len(m)==0:\n",
    "                continue\n",
    "            user_id = int(m)\n",
    "            if user_id not in user_dict:\n",
    "                user_dict[user_id] = set()\n",
    "            user_dict[user_id].add(g_id)\n"
   ]
  },
  {
   "cell_type": "code",
   "execution_count": 2,
   "id": "honey-dispatch",
   "metadata": {},
   "outputs": [],
   "source": [
    "followers = {}\n",
    "cnt = 0\n",
    "th = 5\n",
    "for u1 in user_dict.keys():\n",
    "    if u1 not in followers:\n",
    "        followers[u1] = set()\n",
    "    for u2 in user_dict.keys():\n",
    "        if u2 not in followers:\n",
    "            followers[u2] = set()\n",
    "        if u1 >= u2:\n",
    "            continue\n",
    "        if len(user_dict[u1]) < th or len(user_dict[u2]) < th:\n",
    "            continue\n",
    "        if len(user_dict[u1].intersection(user_dict[u2])) >= th:\n",
    "            cnt += 1\n",
    "            followers[u1].add(u2)\n",
    "            followers[u2].add(u1)\n"
   ]
  },
  {
   "cell_type": "code",
   "execution_count": 3,
   "id": "grateful-giant",
   "metadata": {},
   "outputs": [
    {
     "name": "stdout",
     "output_type": "stream",
     "text": [
      "6.813781283645712\n"
     ]
    }
   ],
   "source": [
    "print(cnt/len(user_dict))"
   ]
  },
  {
   "cell_type": "code",
   "execution_count": 4,
   "id": "dramatic-script",
   "metadata": {},
   "outputs": [
    {
     "name": "stdout",
     "output_type": "stream",
     "text": [
      "3695\n"
     ]
    }
   ],
   "source": [
    "max_cnt = 0\n",
    "for user in followers:\n",
    "    temp = len(followers[user])\n",
    "    if temp > max_cnt:\n",
    "        max_cnt = temp\n",
    "print(max_cnt)"
   ]
  },
  {
   "cell_type": "code",
   "execution_count": 5,
   "id": "reduced-smith",
   "metadata": {},
   "outputs": [],
   "source": [
    "with open(root_path + \"userFollow.txt\", \"w\") as f:\n",
    "    for user in followers:\n",
    "        strings = str(user) + \":\"\n",
    "        for fl in followers[user]:\n",
    "            strings = strings + str(fl) + ' '\n",
    "        strings = strings + \"\\n\"\n",
    "        f.write(strings)"
   ]
  },
  {
   "cell_type": "code",
   "execution_count": null,
   "id": "rural-volunteer",
   "metadata": {},
   "outputs": [],
   "source": []
  }
 ],
 "metadata": {
  "kernelspec": {
   "display_name": "Python 3 (ipykernel)",
   "language": "python",
   "name": "python3"
  },
  "language_info": {
   "codemirror_mode": {
    "name": "ipython",
    "version": 3
   },
   "file_extension": ".py",
   "mimetype": "text/x-python",
   "name": "python",
   "nbconvert_exporter": "python",
   "pygments_lexer": "ipython3",
   "version": "3.9.11"
  }
 },
 "nbformat": 4,
 "nbformat_minor": 5
}
