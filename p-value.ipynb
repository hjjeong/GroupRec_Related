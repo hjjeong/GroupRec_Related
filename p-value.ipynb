{
 "cells": [
  {
   "cell_type": "code",
   "execution_count": 2,
   "id": "f20373b0-23fc-405d-a02d-4064b56ecac6",
   "metadata": {},
   "outputs": [],
   "source": [
    "from scipy.stats import wilcoxon\n",
    "import numpy as np"
   ]
  },
  {
   "cell_type": "code",
   "execution_count": 47,
   "id": "e14ad94d-4149-4a92-914b-0078b3b29d02",
   "metadata": {},
   "outputs": [],
   "source": [
    "def eformat(f, prec, exp_digits):\n",
    "    s = \"%.*e\"%(prec, f)\n",
    "    mantissa, exp = s.split('e')\n",
    "    # add 1 to digits as 1 is taken by sign +/-\n",
    "    return \"%se%+0*d\"%(mantissa, exp_digits+1, int(exp))\n"
   ]
  },
  {
   "cell_type": "code",
   "execution_count": 72,
   "id": "5c0b3180-7ac0-48de-a47d-1e3a9e21e504",
   "metadata": {},
   "outputs": [
    {
     "name": "stdout",
     "output_type": "stream",
     "text": [
      "42.0 0.009765625 9.77e-3\n"
     ]
    }
   ],
   "source": [
    "n=3\n",
    "'''\n",
    "x = [1,0.8889,0.8889,1,0.8889,0.8889,1,0.8889,0.8889]\n",
    "y = [0.8889,0.8889,0.8889,0.8889,0.8889,0.8889,0.8889,0.8889,0.8889]\n",
    "'''\n",
    "\n",
    "#gwl\n",
    "x = [0.0734, 0.0747, 0.0721,0.0721,0.0721,0.0721,0.0721,0.0721,0.0721,]\n",
    "y = [0.0810, 0.0591, 0.0617, 0.0474, 0.0656,0.0649, 0.0591, 0.0617, 0.0474,]\n",
    "\n",
    "w, p = wilcoxon(x,y,alternative='greater')\n",
    "print(w,p,eformat(p,2,1))"
   ]
  },
  {
   "cell_type": "code",
   "execution_count": 8,
   "id": "e0beeb0a-e92c-4df2-b59f-2c6bd9745b7e",
   "metadata": {},
   "outputs": [
    {
     "name": "stdout",
     "output_type": "stream",
     "text": [
      "0.0 0.25\n"
     ]
    }
   ],
   "source": [
    "print(w,p)"
   ]
  },
  {
   "cell_type": "code",
   "execution_count": 11,
   "id": "b00cc586-dc3a-48b8-aa12-0ed529feadb1",
   "metadata": {},
   "outputs": [],
   "source": [
    "from scipy import stats"
   ]
  },
  {
   "cell_type": "code",
   "execution_count": 12,
   "id": "4166f384-fe9f-4547-896f-b6968a81ecb2",
   "metadata": {},
   "outputs": [
    {
     "data": {
      "text/plain": [
       "Ttest_relResult(statistic=2.6215435087899808, pvalue=0.05994768911259982)"
      ]
     },
     "execution_count": 12,
     "metadata": {},
     "output_type": "execute_result"
    }
   ],
   "source": [
    "stats.ttest_rel(x, y,alternative='greater')"
   ]
  },
  {
   "cell_type": "code",
   "execution_count": null,
   "id": "2264dac5-c152-403a-90f6-eb408542e79a",
   "metadata": {},
   "outputs": [],
   "source": []
  }
 ],
 "metadata": {
  "kernelspec": {
   "display_name": "Python 3 (ipykernel)",
   "language": "python",
   "name": "python3"
  },
  "language_info": {
   "codemirror_mode": {
    "name": "ipython",
    "version": 3
   },
   "file_extension": ".py",
   "mimetype": "text/x-python",
   "name": "python",
   "nbconvert_exporter": "python",
   "pygments_lexer": "ipython3",
   "version": "3.9.11"
  }
 },
 "nbformat": 4,
 "nbformat_minor": 5
}
