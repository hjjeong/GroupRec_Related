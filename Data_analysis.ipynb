{
 "cells": [
  {
   "cell_type": "code",
   "execution_count": 1,
   "metadata": {},
   "outputs": [],
   "source": [
    "#Python Libs\n",
    "import numpy as np\n",
    "from time import time\n",
    "import datetime\n",
    "#Implementations\n",
    "from config_CA import Config\n",
    "from dataset_Meetup import GDataset"
   ]
  },
  {
   "cell_type": "code",
   "execution_count": 2,
   "metadata": {},
   "outputs": [
    {
     "name": "stdout",
     "output_type": "stream",
     "text": [
      "meetup.ca 100 256\n"
     ]
    }
   ],
   "source": [
    "config = Config()"
   ]
  },
  {
   "cell_type": "code",
   "execution_count": 3,
   "metadata": {},
   "outputs": [
    {
     "name": "stdout",
     "output_type": "stream",
     "text": [
      "num_groups: 607 num_users: 56878 num_items: 1490\n"
     ]
    }
   ],
   "source": [
    "dataset = GDataset(config.user_dataset, config.group_dataset, config.user_in_group_path, 1)\n",
    "num_groups, num_users, num_items = dataset.num_groups, dataset.num_users, dataset.num_items\n",
    "print(\"num_groups: \"+str(num_groups)+\" num_users: \"+str(num_users)+\" num_items: \"+str(num_items))\n",
    "gu_dict = dataset.gu_dict\n",
    "\n",
    "train_rating = dataset.group_trainRatings\n",
    "test_rating = dataset.group_testRatings\n",
    "test_cold = dataset.load_rating_file_as_dict(config.group_dataset + \".test.rating_cold\")\n",
    "test_warm = dataset.load_rating_file_as_dict(config.group_dataset + \".test.rating_warm\")\n"
   ]
  },
  {
   "cell_type": "code",
   "execution_count": 4,
   "metadata": {},
   "outputs": [
    {
     "name": "stdout",
     "output_type": "stream",
     "text": [
      "total interactions:  5218\n",
      "sparsity:  0.9942306203907434\n",
      "avg. #items/group:  8.596375617792422\n",
      "avg. #groups/item:  3.502013422818792\n"
     ]
    }
   ],
   "source": [
    "interaction_cnt = 0\n",
    "for g in train_rating:\n",
    "    interaction_cnt += len(train_rating[g])\n",
    "for g in test_rating:\n",
    "    interaction_cnt += len(test_rating[g])\n",
    "print('total interactions: ', interaction_cnt)\n",
    "print('sparsity: ', (1-interaction_cnt/(num_groups*num_items)))\n",
    "print('avg. #items/group: ', interaction_cnt/num_groups)\n",
    "print('avg. #groups/item: ', interaction_cnt/num_items)"
   ]
  },
  {
   "cell_type": "code",
   "execution_count": 5,
   "metadata": {},
   "outputs": [
    {
     "name": "stdout",
     "output_type": "stream",
     "text": [
      "228.4514003294893\n"
     ]
    }
   ],
   "source": [
    "avg_users = 0\n",
    "for g in range(dataset.num_groups):\n",
    "    if (g in train_rating):\n",
    "        avg_users += len(dataset.gu_dict[g])\n",
    "    else:\n",
    "        avg_users += len(dataset.gu_dict[g])\n",
    "avg_users = avg_users/dataset.num_groups\n",
    "print(avg_users)"
   ]
  },
  {
   "cell_type": "code",
   "execution_count": 6,
   "metadata": {},
   "outputs": [
    {
     "name": "stdout",
     "output_type": "stream",
     "text": [
      "281.7846153846154\n"
     ]
    }
   ],
   "source": [
    "avg_users = 0\n",
    "for g in range(dataset.num_groups):\n",
    "    if (g in test_warm):\n",
    "        avg_users += len(dataset.gu_dict[g])\n",
    "\n",
    "avg_users = avg_users/len(test_warm)\n",
    "print(avg_users)"
   ]
  },
  {
   "cell_type": "code",
   "execution_count": 7,
   "metadata": {},
   "outputs": [
    {
     "data": {
      "text/plain": [
       "130"
      ]
     },
     "execution_count": 7,
     "metadata": {},
     "output_type": "execute_result"
    }
   ],
   "source": [
    "len(test_warm)"
   ]
  },
  {
   "cell_type": "code",
   "execution_count": 8,
   "metadata": {},
   "outputs": [
    {
     "name": "stdout",
     "output_type": "stream",
     "text": [
      "total interactions:  229\n",
      "avg. #items/group:  1.7615384615384615\n"
     ]
    }
   ],
   "source": [
    "interaction_cnt = 0\n",
    "\n",
    "for g in test_warm:\n",
    "    interaction_cnt += len(test_warm[g])\n",
    "print('total interactions: ', interaction_cnt)\n",
    "print('avg. #items/group: ', interaction_cnt/len(test_warm))"
   ]
  },
  {
   "cell_type": "code",
   "execution_count": null,
   "metadata": {},
   "outputs": [],
   "source": []
  }
 ],
 "metadata": {
  "kernelspec": {
   "display_name": "Python 3 (ipykernel)",
   "language": "python",
   "name": "python3"
  },
  "language_info": {
   "codemirror_mode": {
    "name": "ipython",
    "version": 3
   },
   "file_extension": ".py",
   "mimetype": "text/x-python",
   "name": "python",
   "nbconvert_exporter": "python",
   "pygments_lexer": "ipython3",
   "version": "3.9.11"
  }
 },
 "nbformat": 4,
 "nbformat_minor": 4
}
